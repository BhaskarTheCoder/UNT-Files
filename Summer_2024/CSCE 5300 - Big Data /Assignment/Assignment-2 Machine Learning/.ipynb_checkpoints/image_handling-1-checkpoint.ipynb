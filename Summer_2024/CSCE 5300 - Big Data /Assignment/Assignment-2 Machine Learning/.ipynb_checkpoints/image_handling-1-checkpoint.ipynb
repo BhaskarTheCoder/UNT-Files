{
 "cells": [
  {
   "cell_type": "markdown",
   "id": "6aefa0e5",
   "metadata": {},
   "source": [
    "#### Reference: https://www.geeksforgeeks.org/how-to-convert-images-to-numpy-array/"
   ]
  },
  {
   "cell_type": "markdown",
   "id": "2a079b43",
   "metadata": {},
   "source": [
    "### Using PIL "
   ]
  },
  {
   "cell_type": "code",
   "execution_count": 17,
   "id": "88898f90",
   "metadata": {},
   "outputs": [
    {
     "name": "stdout",
     "output_type": "stream",
     "text": [
      "JPEG\n",
      "(3152, 3000)\n",
      "RGB\n"
     ]
    }
   ],
   "source": [
    "from PIL import Image\n",
    "image = Image.open('data/train/normal1.JPG')\n",
    " \n",
    "# summarize some details about the image\n",
    "print(image.format)\n",
    "print(image.size)\n",
    "print(image.mode)"
   ]
  },
  {
   "cell_type": "code",
   "execution_count": 18,
   "id": "8cf75fbd",
   "metadata": {},
   "outputs": [
    {
     "name": "stdout",
     "output_type": "stream",
     "text": [
      "(3000, 3152, 3)\n"
     ]
    }
   ],
   "source": [
    "#Using numpy asarray() function\n",
    "from numpy import asarray\n",
    "numpy_data = asarray(image)\n",
    "print(numpy_data.shape)"
   ]
  },
  {
   "cell_type": "code",
   "execution_count": 19,
   "id": "53995cf2",
   "metadata": {},
   "outputs": [
    {
     "name": "stdout",
     "output_type": "stream",
     "text": [
      "(3000, 3152, 3)\n"
     ]
    }
   ],
   "source": [
    "#Using numpy.array()\n",
    "import numpy as np\n",
    "np_img = np.array(image)\n",
    "print(np_img.shape)"
   ]
  },
  {
   "cell_type": "markdown",
   "id": "fee0ce72",
   "metadata": {},
   "source": [
    "#### Getting back image from array"
   ]
  },
  {
   "cell_type": "code",
   "execution_count": 20,
   "id": "07d873a7",
   "metadata": {},
   "outputs": [
    {
     "name": "stdout",
     "output_type": "stream",
     "text": [
      "RGB (3152, 3000)\n"
     ]
    }
   ],
   "source": [
    "pilImage = Image.fromarray(np_img)\n",
    "print(pilImage.mode, pilImage.size)"
   ]
  },
  {
   "cell_type": "markdown",
   "id": "77b034bd",
   "metadata": {},
   "source": [
    "### Using Keras and tensorflow"
   ]
  },
  {
   "cell_type": "code",
   "execution_count": 21,
   "id": "c985b80a",
   "metadata": {},
   "outputs": [
    {
     "name": "stdout",
     "output_type": "stream",
     "text": [
      "<class 'PIL.JpegImagePlugin.JpegImageFile'>\n",
      "JPEG\n",
      "RGB\n",
      "(3152, 3000)\n"
     ]
    }
   ],
   "source": [
    "from keras.preprocessing.image import load_img\n",
    "import warnings\n",
    " \n",
    "# load the image via load_img \n",
    "# function\n",
    "img = load_img('data/train/normal1.JPG')\n",
    " \n",
    "# details about the image printed below\n",
    "print(type(img)) \n",
    "print(img.format)\n",
    "print(img.mode)\n",
    "print(img.size)"
   ]
  },
  {
   "cell_type": "markdown",
   "id": "bcb44646",
   "metadata": {},
   "source": [
    "#### Using OpenCV"
   ]
  },
  {
   "cell_type": "code",
   "execution_count": 29,
   "id": "fea92367",
   "metadata": {},
   "outputs": [
    {
     "name": "stdout",
     "output_type": "stream",
     "text": [
      "<class 'numpy.ndarray'>\n"
     ]
    }
   ],
   "source": [
    "import cv2\n",
    " \n",
    "image = cv2.imread('data/train/normal1.JPG')\n",
    " \n",
    "# BGR -> RGB\n",
    "img = cv2.cvtColor(image, cv2.COLOR_BGR2RGB)\n",
    " \n",
    "cv2.imwrite('opncv_sample.png', img) \n",
    "print (type(img))"
   ]
  },
  {
   "cell_type": "markdown",
   "id": "4bc8ae78",
   "metadata": {},
   "source": [
    "### Resize Image with PIL"
   ]
  },
  {
   "cell_type": "code",
   "execution_count": null,
   "id": "d570fa42",
   "metadata": {},
   "outputs": [],
   "source": [
    "# Importing Image class from PIL module \n",
    "from PIL import Image \n",
    " \n",
    "# Opens a image in RGB mode \n",
    "im = Image.open('data/train/normal1.JPG') \n",
    " \n",
    "# Size of the image in pixels (size of original image) \n",
    "# (This is not mandatory) \n",
    "width, height = im.size \n",
    " \n",
    "# Resize (200, 200). (It will not change original image) \n",
    "newsize = (200, 200)\n",
    "im1 = im.resize(newsize)\n",
    "# Shows the image in image viewer\n",
    "im1.show() "
   ]
  },
  {
   "cell_type": "code",
   "execution_count": null,
   "id": "ee71b9f0",
   "metadata": {},
   "outputs": [],
   "source": []
  }
 ],
 "metadata": {
  "kernelspec": {
   "display_name": "fall23-5300",
   "language": "python",
   "name": "fall23-5300"
  },
  "language_info": {
   "codemirror_mode": {
    "name": "ipython",
    "version": 3
   },
   "file_extension": ".py",
   "mimetype": "text/x-python",
   "name": "python",
   "nbconvert_exporter": "python",
   "pygments_lexer": "ipython3",
   "version": "3.11.5"
  }
 },
 "nbformat": 4,
 "nbformat_minor": 5
}
