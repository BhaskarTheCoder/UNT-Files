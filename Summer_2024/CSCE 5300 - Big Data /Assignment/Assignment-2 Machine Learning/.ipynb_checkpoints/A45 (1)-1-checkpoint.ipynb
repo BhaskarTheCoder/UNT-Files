{
 "cells": [
  {
   "cell_type": "code",
   "execution_count": 34,
   "id": "e67ecb5a",
   "metadata": {},
   "outputs": [],
   "source": [
    "import numpy as np\n",
    "import pandas as pd\n",
    "import matplotlib.pyplot as plt\n",
    "import seaborn as sns\n",
    "\n",
    "#sklearn libraries \n",
    "from sklearn.model_selection import train_test_split\n",
    "from sklearn.metrics import classification_report, confusion_matrix, accuracy_score\n",
    "from sklearn.linear_model import LogisticRegression\n",
    "from sklearn import metrics\n",
    "\n",
    "import warnings\n",
    "warnings.simplefilter(action='ignore', category=FutureWarning)\n"
   ]
  },
  {
   "cell_type": "code",
   "execution_count": 35,
   "id": "b0e9b88c",
   "metadata": {},
   "outputs": [
    {
     "data": {
      "text/plain": [
       "Year               249\n",
       "Race               249\n",
       "Sex                249\n",
       "Age                249\n",
       "Survival months    249\n",
       "MaritalStatus      249\n",
       "target             249\n",
       "dtype: int64"
      ]
     },
     "execution_count": 35,
     "metadata": {},
     "output_type": "execute_result"
    }
   ],
   "source": [
    "#read new file\n",
    "model1 = pd.read_csv('SEER_testdata.csv')\n",
    "model1.count()"
   ]
  },
  {
   "cell_type": "markdown",
   "id": "614f277e-2182-4b76-9a7e-6c5317a437e6",
   "metadata": {},
   "source": [
    "### Part 2"
   ]
  },
  {
   "cell_type": "code",
   "execution_count": 36,
   "id": "56848cf3",
   "metadata": {},
   "outputs": [
    {
     "data": {
      "text/plain": [
       "Year               249\n",
       "Race               249\n",
       "Sex                249\n",
       "Age                249\n",
       "Survival months    249\n",
       "MaritalStatus      249\n",
       "target             249\n",
       "dtype: int64"
      ]
     },
     "execution_count": 36,
     "metadata": {},
     "output_type": "execute_result"
    }
   ],
   "source": [
    "#dropna\n",
    "model1 = model1.dropna()\n",
    "model1.count()"
   ]
  },
  {
   "cell_type": "markdown",
   "id": "ee2ae17a-a4b1-4d4f-85f1-5f6a134b6029",
   "metadata": {},
   "source": [
    "## Recodes"
   ]
  },
  {
   "cell_type": "code",
   "execution_count": 37,
   "id": "1e03b0ea-23db-456d-abd4-fd29bc93217e",
   "metadata": {},
   "outputs": [
    {
     "data": {
      "text/html": [
       "<div>\n",
       "<style scoped>\n",
       "    .dataframe tbody tr th:only-of-type {\n",
       "        vertical-align: middle;\n",
       "    }\n",
       "\n",
       "    .dataframe tbody tr th {\n",
       "        vertical-align: top;\n",
       "    }\n",
       "\n",
       "    .dataframe thead th {\n",
       "        text-align: right;\n",
       "    }\n",
       "</style>\n",
       "<table border=\"1\" class=\"dataframe\">\n",
       "  <thead>\n",
       "    <tr style=\"text-align: right;\">\n",
       "      <th></th>\n",
       "      <th>Year</th>\n",
       "      <th>Race</th>\n",
       "      <th>Sex</th>\n",
       "      <th>Age</th>\n",
       "      <th>Survival months</th>\n",
       "      <th>MaritalStatus</th>\n",
       "      <th>target</th>\n",
       "    </tr>\n",
       "  </thead>\n",
       "  <tbody>\n",
       "    <tr>\n",
       "      <th>0</th>\n",
       "      <td>2000</td>\n",
       "      <td>White</td>\n",
       "      <td>Male</td>\n",
       "      <td>82 years</td>\n",
       "      <td>17</td>\n",
       "      <td>1</td>\n",
       "      <td>1</td>\n",
       "    </tr>\n",
       "    <tr>\n",
       "      <th>1</th>\n",
       "      <td>2000</td>\n",
       "      <td>White</td>\n",
       "      <td>Male</td>\n",
       "      <td>76 years</td>\n",
       "      <td>67</td>\n",
       "      <td>5</td>\n",
       "      <td>1</td>\n",
       "    </tr>\n",
       "    <tr>\n",
       "      <th>2</th>\n",
       "      <td>2000</td>\n",
       "      <td>White</td>\n",
       "      <td>Female</td>\n",
       "      <td>65 years</td>\n",
       "      <td>41</td>\n",
       "      <td>5</td>\n",
       "      <td>1</td>\n",
       "    </tr>\n",
       "    <tr>\n",
       "      <th>3</th>\n",
       "      <td>2000</td>\n",
       "      <td>White</td>\n",
       "      <td>Male</td>\n",
       "      <td>86 years</td>\n",
       "      <td>15</td>\n",
       "      <td>5</td>\n",
       "      <td>1</td>\n",
       "    </tr>\n",
       "    <tr>\n",
       "      <th>4</th>\n",
       "      <td>2000</td>\n",
       "      <td>White</td>\n",
       "      <td>Female</td>\n",
       "      <td>82 years</td>\n",
       "      <td>0</td>\n",
       "      <td>5</td>\n",
       "      <td>1</td>\n",
       "    </tr>\n",
       "    <tr>\n",
       "      <th>5</th>\n",
       "      <td>2000</td>\n",
       "      <td>White</td>\n",
       "      <td>Male</td>\n",
       "      <td>73 years</td>\n",
       "      <td>78</td>\n",
       "      <td>5</td>\n",
       "      <td>1</td>\n",
       "    </tr>\n",
       "    <tr>\n",
       "      <th>6</th>\n",
       "      <td>2000</td>\n",
       "      <td>White</td>\n",
       "      <td>Female</td>\n",
       "      <td>57 years</td>\n",
       "      <td>85</td>\n",
       "      <td>5</td>\n",
       "      <td>1</td>\n",
       "    </tr>\n",
       "    <tr>\n",
       "      <th>7</th>\n",
       "      <td>2000</td>\n",
       "      <td>White</td>\n",
       "      <td>Female</td>\n",
       "      <td>72 years</td>\n",
       "      <td>115</td>\n",
       "      <td>5</td>\n",
       "      <td>1</td>\n",
       "    </tr>\n",
       "    <tr>\n",
       "      <th>8</th>\n",
       "      <td>2000</td>\n",
       "      <td>White</td>\n",
       "      <td>Male</td>\n",
       "      <td>81 years</td>\n",
       "      <td>0</td>\n",
       "      <td>5</td>\n",
       "      <td>1</td>\n",
       "    </tr>\n",
       "    <tr>\n",
       "      <th>9</th>\n",
       "      <td>2000</td>\n",
       "      <td>White</td>\n",
       "      <td>Female</td>\n",
       "      <td>97 years</td>\n",
       "      <td>29</td>\n",
       "      <td>5</td>\n",
       "      <td>1</td>\n",
       "    </tr>\n",
       "    <tr>\n",
       "      <th>10</th>\n",
       "      <td>2000</td>\n",
       "      <td>White</td>\n",
       "      <td>Male</td>\n",
       "      <td>81 years</td>\n",
       "      <td>111</td>\n",
       "      <td>5</td>\n",
       "      <td>1</td>\n",
       "    </tr>\n",
       "    <tr>\n",
       "      <th>11</th>\n",
       "      <td>2000</td>\n",
       "      <td>White</td>\n",
       "      <td>Female</td>\n",
       "      <td>50 years</td>\n",
       "      <td>24</td>\n",
       "      <td>5</td>\n",
       "      <td>1</td>\n",
       "    </tr>\n",
       "    <tr>\n",
       "      <th>12</th>\n",
       "      <td>2000</td>\n",
       "      <td>White</td>\n",
       "      <td>Male</td>\n",
       "      <td>78 years</td>\n",
       "      <td>38</td>\n",
       "      <td>5</td>\n",
       "      <td>1</td>\n",
       "    </tr>\n",
       "    <tr>\n",
       "      <th>13</th>\n",
       "      <td>2000</td>\n",
       "      <td>White</td>\n",
       "      <td>Male</td>\n",
       "      <td>76 years</td>\n",
       "      <td>41</td>\n",
       "      <td>5</td>\n",
       "      <td>1</td>\n",
       "    </tr>\n",
       "    <tr>\n",
       "      <th>14</th>\n",
       "      <td>2000</td>\n",
       "      <td>White</td>\n",
       "      <td>Female</td>\n",
       "      <td>91 years</td>\n",
       "      <td>38</td>\n",
       "      <td>5</td>\n",
       "      <td>1</td>\n",
       "    </tr>\n",
       "    <tr>\n",
       "      <th>15</th>\n",
       "      <td>2000</td>\n",
       "      <td>White</td>\n",
       "      <td>Female</td>\n",
       "      <td>86 years</td>\n",
       "      <td>3</td>\n",
       "      <td>5</td>\n",
       "      <td>1</td>\n",
       "    </tr>\n",
       "    <tr>\n",
       "      <th>16</th>\n",
       "      <td>2000</td>\n",
       "      <td>White</td>\n",
       "      <td>Male</td>\n",
       "      <td>77 years</td>\n",
       "      <td>147</td>\n",
       "      <td>5</td>\n",
       "      <td>1</td>\n",
       "    </tr>\n",
       "    <tr>\n",
       "      <th>17</th>\n",
       "      <td>2000</td>\n",
       "      <td>White</td>\n",
       "      <td>Male</td>\n",
       "      <td>81 years</td>\n",
       "      <td>0</td>\n",
       "      <td>5</td>\n",
       "      <td>1</td>\n",
       "    </tr>\n",
       "    <tr>\n",
       "      <th>18</th>\n",
       "      <td>2000</td>\n",
       "      <td>White</td>\n",
       "      <td>Male</td>\n",
       "      <td>70 years</td>\n",
       "      <td>106</td>\n",
       "      <td>5</td>\n",
       "      <td>1</td>\n",
       "    </tr>\n",
       "    <tr>\n",
       "      <th>19</th>\n",
       "      <td>2000</td>\n",
       "      <td>White</td>\n",
       "      <td>Male</td>\n",
       "      <td>68 years</td>\n",
       "      <td>135</td>\n",
       "      <td>5</td>\n",
       "      <td>1</td>\n",
       "    </tr>\n",
       "  </tbody>\n",
       "</table>\n",
       "</div>"
      ],
      "text/plain": [
       "    Year   Race     Sex       Age  Survival months MaritalStatus  target\n",
       "0   2000  White    Male  82 years               17             1       1\n",
       "1   2000  White    Male  76 years               67             5       1\n",
       "2   2000  White  Female  65 years               41             5       1\n",
       "3   2000  White    Male  86 years               15             5       1\n",
       "4   2000  White  Female  82 years                0             5       1\n",
       "5   2000  White    Male  73 years               78             5       1\n",
       "6   2000  White  Female  57 years               85             5       1\n",
       "7   2000  White  Female  72 years              115             5       1\n",
       "8   2000  White    Male  81 years                0             5       1\n",
       "9   2000  White  Female  97 years               29             5       1\n",
       "10  2000  White    Male  81 years              111             5       1\n",
       "11  2000  White  Female  50 years               24             5       1\n",
       "12  2000  White    Male  78 years               38             5       1\n",
       "13  2000  White    Male  76 years               41             5       1\n",
       "14  2000  White  Female  91 years               38             5       1\n",
       "15  2000  White  Female  86 years                3             5       1\n",
       "16  2000  White    Male  77 years              147             5       1\n",
       "17  2000  White    Male  81 years                0             5       1\n",
       "18  2000  White    Male  70 years              106             5       1\n",
       "19  2000  White    Male  68 years              135             5       1"
      ]
     },
     "execution_count": 37,
     "metadata": {},
     "output_type": "execute_result"
    }
   ],
   "source": [
    "model1['MaritalStatus'].replace(\"Married (including common law)\",'1', inplace=True)\n",
    "model1['MaritalStatus'].replace('Single (never married)','2', inplace=True)\n",
    "model1['MaritalStatus'].replace('Divorced','3', inplace=True)\n",
    "model1['MaritalStatus'].replace('Widowed', '4', inplace=True)\n",
    "model1['MaritalStatus'].replace('Unknown','5', inplace=True)\n",
    "model1['MaritalStatus'].replace('Separated','99', inplace=True)\n",
    "model1.head(20)"
   ]
  },
  {
   "cell_type": "code",
   "execution_count": 38,
   "id": "39b5381a-daee-48ec-a8f4-d9a04ec6903b",
   "metadata": {},
   "outputs": [],
   "source": [
    "#Get rid of trailing years in Age column\n",
    "model1['Age']=model1['Age'].str.replace(\"years\",'')"
   ]
  },
  {
   "cell_type": "code",
   "execution_count": 39,
   "id": "cf11ea34-30b1-4ea5-b768-c75099bbe5b0",
   "metadata": {},
   "outputs": [],
   "source": [
    "#enumerate Race and Sex\n",
    "racemat = {'White':1, 'Black':2, 'Asian or Pacific Islander':3, 'AIAN':4, 'Hispanic':5, 'Unknown':6}\n",
    "sexmat = {'Male':1, 'Female':0}"
   ]
  },
  {
   "cell_type": "code",
   "execution_count": 40,
   "id": "269df776-80e2-42dc-ab87-6026888ca45e",
   "metadata": {},
   "outputs": [],
   "source": [
    "model1['Race']=model1['Race'].replace(racemat)\n",
    "model1['Sex']=model1['Sex'].replace(sexmat)"
   ]
  },
  {
   "cell_type": "code",
   "execution_count": 41,
   "id": "19f395c3-3ea1-4807-a0f0-76b611dbfe18",
   "metadata": {},
   "outputs": [],
   "source": [
    "model1['Survival months'].replace('Unknown',99, inplace=True)\n",
    "model1['MaritalStatus'].replace('Unmarried or Domestic Partner', 99, inplace=True)"
   ]
  },
  {
   "cell_type": "code",
   "execution_count": 42,
   "id": "3088ce77-0bb8-4639-b4c1-ead412eb6b00",
   "metadata": {},
   "outputs": [
    {
     "data": {
      "text/html": [
       "<div>\n",
       "<style scoped>\n",
       "    .dataframe tbody tr th:only-of-type {\n",
       "        vertical-align: middle;\n",
       "    }\n",
       "\n",
       "    .dataframe tbody tr th {\n",
       "        vertical-align: top;\n",
       "    }\n",
       "\n",
       "    .dataframe thead th {\n",
       "        text-align: right;\n",
       "    }\n",
       "</style>\n",
       "<table border=\"1\" class=\"dataframe\">\n",
       "  <thead>\n",
       "    <tr style=\"text-align: right;\">\n",
       "      <th></th>\n",
       "      <th>Year</th>\n",
       "      <th>Race</th>\n",
       "      <th>Sex</th>\n",
       "      <th>Age</th>\n",
       "      <th>Survival months</th>\n",
       "      <th>MaritalStatus</th>\n",
       "      <th>target</th>\n",
       "    </tr>\n",
       "  </thead>\n",
       "  <tbody>\n",
       "    <tr>\n",
       "      <th>0</th>\n",
       "      <td>2000</td>\n",
       "      <td>1</td>\n",
       "      <td>1</td>\n",
       "      <td>82</td>\n",
       "      <td>17</td>\n",
       "      <td>1</td>\n",
       "      <td>1</td>\n",
       "    </tr>\n",
       "    <tr>\n",
       "      <th>1</th>\n",
       "      <td>2000</td>\n",
       "      <td>1</td>\n",
       "      <td>1</td>\n",
       "      <td>76</td>\n",
       "      <td>67</td>\n",
       "      <td>5</td>\n",
       "      <td>1</td>\n",
       "    </tr>\n",
       "    <tr>\n",
       "      <th>2</th>\n",
       "      <td>2000</td>\n",
       "      <td>1</td>\n",
       "      <td>0</td>\n",
       "      <td>65</td>\n",
       "      <td>41</td>\n",
       "      <td>5</td>\n",
       "      <td>1</td>\n",
       "    </tr>\n",
       "    <tr>\n",
       "      <th>3</th>\n",
       "      <td>2000</td>\n",
       "      <td>1</td>\n",
       "      <td>1</td>\n",
       "      <td>86</td>\n",
       "      <td>15</td>\n",
       "      <td>5</td>\n",
       "      <td>1</td>\n",
       "    </tr>\n",
       "    <tr>\n",
       "      <th>4</th>\n",
       "      <td>2000</td>\n",
       "      <td>1</td>\n",
       "      <td>0</td>\n",
       "      <td>82</td>\n",
       "      <td>0</td>\n",
       "      <td>5</td>\n",
       "      <td>1</td>\n",
       "    </tr>\n",
       "  </tbody>\n",
       "</table>\n",
       "</div>"
      ],
      "text/plain": [
       "   Year  Race  Sex  Age  Survival months MaritalStatus  target\n",
       "0  2000     1    1  82                17             1       1\n",
       "1  2000     1    1  76                67             5       1\n",
       "2  2000     1    0  65                41             5       1\n",
       "3  2000     1    1  86                15             5       1\n",
       "4  2000     1    0  82                 0             5       1"
      ]
     },
     "execution_count": 42,
     "metadata": {},
     "output_type": "execute_result"
    }
   ],
   "source": [
    "model1.head()"
   ]
  },
  {
   "cell_type": "markdown",
   "id": "b4e46025",
   "metadata": {},
   "source": [
    "# Divide data into 80-20 split"
   ]
  },
  {
   "cell_type": "code",
   "execution_count": 43,
   "id": "dbb562de",
   "metadata": {},
   "outputs": [],
   "source": [
    "X = model1.loc[:,model1.columns != 'target']\n",
    "y = model1.loc[:,model1.columns =='target']"
   ]
  },
  {
   "cell_type": "markdown",
   "id": "85d89701-3a4e-4986-9786-88accd669ad9",
   "metadata": {},
   "source": [
    "## Polynomial Regression"
   ]
  },
  {
   "cell_type": "code",
   "execution_count": 44,
   "id": "02630cf3-4887-4baf-8f06-2fba6ce29a65",
   "metadata": {},
   "outputs": [],
   "source": [
    "from sklearn.linear_model import LinearRegression\n",
    "from sklearn.model_selection import train_test_split\n",
    "from sklearn.preprocessing import PolynomialFeatures\n",
    "#polynomial of degree=2\n",
    "poly = PolynomialFeatures(degree=2, include_bias=False)"
   ]
  },
  {
   "cell_type": "code",
   "execution_count": 45,
   "id": "b29d92d4-0697-48aa-bba9-9b5e87464abb",
   "metadata": {},
   "outputs": [],
   "source": [
    "poly = PolynomialFeatures(degree=2)\n",
    "poly_features = poly.fit_transform(X)"
   ]
  },
  {
   "cell_type": "code",
   "execution_count": 46,
   "id": "47372164-67fd-4fc9-8041-70bda952d682",
   "metadata": {},
   "outputs": [],
   "source": [
    "#split model3 into 80-20 to be consistent throughout. 20% test data will be further split into rural and non-rural\n",
    "X_train, X_test, y_train, y_test = train_test_split(X, y, test_size=0.2, random_state=42)"
   ]
  },
  {
   "cell_type": "code",
   "execution_count": 47,
   "id": "c19507d8-a324-43f0-8e57-7b6a0dde8902",
   "metadata": {},
   "outputs": [
    {
     "data": {
      "text/html": [
       "<style>#sk-container-id-2 {color: black;background-color: white;}#sk-container-id-2 pre{padding: 0;}#sk-container-id-2 div.sk-toggleable {background-color: white;}#sk-container-id-2 label.sk-toggleable__label {cursor: pointer;display: block;width: 100%;margin-bottom: 0;padding: 0.3em;box-sizing: border-box;text-align: center;}#sk-container-id-2 label.sk-toggleable__label-arrow:before {content: \"▸\";float: left;margin-right: 0.25em;color: #696969;}#sk-container-id-2 label.sk-toggleable__label-arrow:hover:before {color: black;}#sk-container-id-2 div.sk-estimator:hover label.sk-toggleable__label-arrow:before {color: black;}#sk-container-id-2 div.sk-toggleable__content {max-height: 0;max-width: 0;overflow: hidden;text-align: left;background-color: #f0f8ff;}#sk-container-id-2 div.sk-toggleable__content pre {margin: 0.2em;color: black;border-radius: 0.25em;background-color: #f0f8ff;}#sk-container-id-2 input.sk-toggleable__control:checked~div.sk-toggleable__content {max-height: 200px;max-width: 100%;overflow: auto;}#sk-container-id-2 input.sk-toggleable__control:checked~label.sk-toggleable__label-arrow:before {content: \"▾\";}#sk-container-id-2 div.sk-estimator input.sk-toggleable__control:checked~label.sk-toggleable__label {background-color: #d4ebff;}#sk-container-id-2 div.sk-label input.sk-toggleable__control:checked~label.sk-toggleable__label {background-color: #d4ebff;}#sk-container-id-2 input.sk-hidden--visually {border: 0;clip: rect(1px 1px 1px 1px);clip: rect(1px, 1px, 1px, 1px);height: 1px;margin: -1px;overflow: hidden;padding: 0;position: absolute;width: 1px;}#sk-container-id-2 div.sk-estimator {font-family: monospace;background-color: #f0f8ff;border: 1px dotted black;border-radius: 0.25em;box-sizing: border-box;margin-bottom: 0.5em;}#sk-container-id-2 div.sk-estimator:hover {background-color: #d4ebff;}#sk-container-id-2 div.sk-parallel-item::after {content: \"\";width: 100%;border-bottom: 1px solid gray;flex-grow: 1;}#sk-container-id-2 div.sk-label:hover label.sk-toggleable__label {background-color: #d4ebff;}#sk-container-id-2 div.sk-serial::before {content: \"\";position: absolute;border-left: 1px solid gray;box-sizing: border-box;top: 0;bottom: 0;left: 50%;z-index: 0;}#sk-container-id-2 div.sk-serial {display: flex;flex-direction: column;align-items: center;background-color: white;padding-right: 0.2em;padding-left: 0.2em;position: relative;}#sk-container-id-2 div.sk-item {position: relative;z-index: 1;}#sk-container-id-2 div.sk-parallel {display: flex;align-items: stretch;justify-content: center;background-color: white;position: relative;}#sk-container-id-2 div.sk-item::before, #sk-container-id-2 div.sk-parallel-item::before {content: \"\";position: absolute;border-left: 1px solid gray;box-sizing: border-box;top: 0;bottom: 0;left: 50%;z-index: -1;}#sk-container-id-2 div.sk-parallel-item {display: flex;flex-direction: column;z-index: 1;position: relative;background-color: white;}#sk-container-id-2 div.sk-parallel-item:first-child::after {align-self: flex-end;width: 50%;}#sk-container-id-2 div.sk-parallel-item:last-child::after {align-self: flex-start;width: 50%;}#sk-container-id-2 div.sk-parallel-item:only-child::after {width: 0;}#sk-container-id-2 div.sk-dashed-wrapped {border: 1px dashed gray;margin: 0 0.4em 0.5em 0.4em;box-sizing: border-box;padding-bottom: 0.4em;background-color: white;}#sk-container-id-2 div.sk-label label {font-family: monospace;font-weight: bold;display: inline-block;line-height: 1.2em;}#sk-container-id-2 div.sk-label-container {text-align: center;}#sk-container-id-2 div.sk-container {/* jupyter's `normalize.less` sets `[hidden] { display: none; }` but bootstrap.min.css set `[hidden] { display: none !important; }` so we also need the `!important` here to be able to override the default hidden behavior on the sphinx rendered scikit-learn.org. See: https://github.com/scikit-learn/scikit-learn/issues/21755 */display: inline-block !important;position: relative;}#sk-container-id-2 div.sk-text-repr-fallback {display: none;}</style><div id=\"sk-container-id-2\" class=\"sk-top-container\"><div class=\"sk-text-repr-fallback\"><pre>LinearRegression()</pre><b>In a Jupyter environment, please rerun this cell to show the HTML representation or trust the notebook. <br />On GitHub, the HTML representation is unable to render, please try loading this page with nbviewer.org.</b></div><div class=\"sk-container\" hidden><div class=\"sk-item\"><div class=\"sk-estimator sk-toggleable\"><input class=\"sk-toggleable__control sk-hidden--visually\" id=\"sk-estimator-id-2\" type=\"checkbox\" checked><label for=\"sk-estimator-id-2\" class=\"sk-toggleable__label sk-toggleable__label-arrow\">LinearRegression</label><div class=\"sk-toggleable__content\"><pre>LinearRegression()</pre></div></div></div></div></div>"
      ],
      "text/plain": [
       "LinearRegression()"
      ]
     },
     "execution_count": 47,
     "metadata": {},
     "output_type": "execute_result"
    }
   ],
   "source": [
    "from sklearn.linear_model import LinearRegression\n",
    "poly_reg = LinearRegression()\n",
    "poly_reg.fit(X_train, y_train)"
   ]
  },
  {
   "cell_type": "code",
   "execution_count": 48,
   "id": "22fd5761-3441-442f-90b3-8e5e463bc6a6",
   "metadata": {},
   "outputs": [],
   "source": [
    "#Prediction\n",
    "y_test_pred = poly_reg.predict(X_test)"
   ]
  },
  {
   "cell_type": "code",
   "execution_count": 49,
   "id": "a14b43c5-da40-4226-9ca1-2a8c8bd939bb",
   "metadata": {},
   "outputs": [
    {
     "name": "stdout",
     "output_type": "stream",
     "text": [
      "0.23089\n"
     ]
    }
   ],
   "source": [
    "#Accuracy score (MSE and RMSE)\n",
    "mse = metrics.mean_squared_error(y_test, y_test_pred)\n",
    "rmse = mse**0.5\n",
    "print (round(rmse,5))\n",
    "\n",
    "       \n"
   ]
  },
  {
   "cell_type": "code",
   "execution_count": 50,
   "id": "c335047f-621f-4d74-a740-7875defedff2",
   "metadata": {},
   "outputs": [
    {
     "data": {
      "image/png": "[encoded data removed]",
      "text/plain": [
       "<Figure size 640x480 with 2 Axes>"
      ]
     },
     "metadata": {},
     "output_type": "display_data"
    }
   ],
   "source": [
    "#Heat Map\n",
    "import seaborn as sns\n",
    "dataplot = sns.heatmap(model1.corr(), annot=True, fmt='0.2f')"
   ]
  },
  {
   "cell_type": "code",
   "execution_count": 51,
   "id": "84d9a56f-2c18-453f-b8e8-26fe231a622a",
   "metadata": {},
   "outputs": [
    {
     "data": {
      "text/plain": [
       "Text(0, 0.5, 'Outcome')"
      ]
     },
     "execution_count": 51,
     "metadata": {},
     "output_type": "execute_result"
    },
    {
     "data": {
      "image/png": "[encoded data removed]",
      "text/plain": [
       "<Figure size 640x480 with 1 Axes>"
      ]
     },
     "metadata": {},
     "output_type": "display_data"
    }
   ],
   "source": [
    "#plot Race vs target\n",
    "sns.regplot(data=model1, x='Survival months', y='target')\n",
    "plt.title(\"Survival months vs Target\")\n",
    "plt.xlabel(\"Survival months\")\n",
    "plt.ylabel(\"Outcome\")"
   ]
  },
  {
   "cell_type": "markdown",
   "id": "ea3077d9-d39d-49f4-b6dc-d8d26eb7c791",
   "metadata": {},
   "source": [
    "## Logistic Regression"
   ]
  },
  {
   "cell_type": "code",
   "execution_count": 62,
   "id": "0eee10d0-a389-48e5-bd86-2780e0683cf6",
   "metadata": {},
   "outputs": [
    {
     "name": "stdout",
     "output_type": "stream",
     "text": [
      "Logistic Regression Accuracy = 0.96\n"
     ]
    }
   ],
   "source": [
    "log_model_1 = LogisticRegression(solver='lbfgs', C=10.0).fit(X_train, y_train.values.ravel())\n",
    "y_test_pred = log_model_1.predict(X_test)\n",
    "model_score = log_model_1.score(X_test, y_test)\n",
    "print (\"Logistic Regression Accuracy =\", model_score)"
   ]
  }
 ],
 "metadata": {
  "kernelspec": {
   "display_name": "fall23-5300",
   "language": "python",
   "name": "fall23-5300"
  },
  "language_info": {
   "codemirror_mode": {
    "name": "ipython",
    "version": 3
   },
   "file_extension": ".py",
   "mimetype": "text/x-python",
   "name": "python",
   "nbconvert_exporter": "python",
   "pygments_lexer": "ipython3",
   "version": "3.11.5"
  }
 },
 "nbformat": 4,
 "nbformat_minor": 5
}
